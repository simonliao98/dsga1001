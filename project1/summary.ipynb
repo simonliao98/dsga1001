{
 "cells": [
  {
   "cell_type": "markdown",
   "metadata": {},
   "source": [
    "1) Are movies that are more popular (operationalized as having more ratings) rated higher than movies that are less popular? [Hint: You can do a median-split of popularity to determine high vs. low popularity movies]"
   ]
  },
  {
   "cell_type": "markdown",
   "metadata": {},
   "source": [
    "I used the median of counts of movie ratings as threshold and split movies into high vs low popularity movies (two groups). Since the movie ratings are meaningless if reduced to mean and we are testing two sample, I used the Mann Whiteney U test instead of t-test to test whether there is a difference in frequency of ratings between high popularity movies and low popularity moviews. For question 1 to 8, I used the Mann Whitney U test for the same reason, but according to different test circumstance I used different hypothesis. For question 1, the null hypothesis is that high popularity movies would are not higher than low popularity movies. Under $\\alpha = 0.005$， We get a p-value that is much less than 0.005, so there is evidence that popular movies have higher ratings than movies that are not that popular."
   ]
  },
  {
   "cell_type": "markdown",
   "metadata": {},
   "source": [
    "2) Are movies that are newer rated differently than movies that are older? [Hint: Do a median split of year of release to contrast movies in terms of whether they are old or new]"
   ]
  },
  {
   "cell_type": "markdown",
   "metadata": {},
   "source": [
    "I also do a median split to determine older, newer movies. The median of release year of movies in this dataset is 1999, so I splited them, into movie released before 1999 as the group of older movies and movies released after (including) 1999 as the group of newer movies. Again, for movie ratings, it is more reasonable to use a Mann Whitney U test to detect difference in frequency than difference in mean. The null hypothesis of this test is that ratings of older movies and newer movies are the same. The p value is really small (1.2849216001533932e-06), at $\\alpha = 0.005$ significance level, we rejected the null hypothesis that movies released in recent years are rated the same as movies released earlier."
   ]
  },
  {
   "cell_type": "markdown",
   "metadata": {},
   "source": [
    "3) Is enjoyment of ‘Shrek (2001)’ gendered, i.e. do male and female viewers rate it differently?"
   ]
  },
  {
   "cell_type": "markdown",
   "metadata": {},
   "source": [
    "I compared the Shrek ratings by male and female using the Mannu Whitney U test. Since we want to test whether the two group of rating has difference, the null hypothesis is that males rating and females rating are the same (no difference). The althernative hypothesis is that there is a difference between male/female ratings. The p-value is 0.050536625925559006, at 0.005 significance level, we failed to reject that Shrek (2001) is rated differently by male and female."
   ]
  },
  {
   "cell_type": "markdown",
   "metadata": {},
   "source": [
    "4) What proportion of movies are rated differently by male and female viewers?"
   ]
  },
  {
   "cell_type": "markdown",
   "metadata": {},
   "source": [
    "Using the Mann Whitney U test as in question 3 for all the movies, under the null that movies are rated the same by male and female, there are 12.5% of the movies have a p-value that is less than 0.005, so under $\\alpha = 0.005$, approximately 12.5% of the movies are rated differently by male and female."
   ]
  },
  {
   "cell_type": "markdown",
   "metadata": {},
   "source": [
    "5) Do people who are only children enjoy ‘The Lion King (1994)’ more than people with siblings?"
   ]
  },
  {
   "cell_type": "markdown",
   "metadata": {},
   "source": [
    "I compared The Lion King 1994 ratings between those who are single child and those who with siblings using the Mann Whitney U test. The null hypothesis is that rating by single child are not greater (i.e. less or equal) than rating by people with siblings and the alternative hypothsis is that single child enjoy the movie more. At 0.005 significance level, we fail reject the null hypothesis (p = 0.978419092554931). As a result, we have no evidence that rating of only child is greater than rating of who with siblings."
   ]
  },
  {
   "cell_type": "markdown",
   "metadata": {},
   "source": [
    "6) What proportion of movies exhibit an “only child effect”, i.e. are rated different by viewers with siblings vs. those without?"
   ]
  },
  {
   "cell_type": "markdown",
   "metadata": {},
   "source": [
    "Using the same test and hypothesis for question 6 on each movies, and under 0.005 significance level, we find that 10% of the cases we generated a p-value that is less than 0.005. So under $\\alpha = 0.005$, there are 1.75% of movies have \"only child effect\"."
   ]
  },
  {
   "cell_type": "markdown",
   "metadata": {},
   "source": [
    "7) Do people who like to watch movies socially enjoy ‘The Wolf of Wall Street (2013)’ more than those who prefer to watch them alone?"
   ]
  },
  {
   "cell_type": "markdown",
   "metadata": {},
   "source": [
    "Since it is comparing I filtered out who enjoy watching movie socially and who enjoy watching alone and used the Mann Whitney U test to test whether the ratings of who like to watch movies socially is higher than those who like to watch movies alone. The null hypothesis is that the rating of who like to watch socially is less or equal to the rating of who like to watch moview alone. The p-value of this test is 0.9436657996253056, which fail to reject the null under 0.005 significance level. We have no evidence to believe people who like to watch movies socially enjoy ‘The Wolf of Wall Street (2013)’ more than those who prefer to watch them alone."
   ]
  },
  {
   "cell_type": "markdown",
   "metadata": {},
   "source": [
    "8) What proportion of movies exhibit such a “social watching” effect?"
   ]
  },
  {
   "cell_type": "markdown",
   "metadata": {},
   "source": [
    "By performing the same test in question 7 on every movie in the dataset, 2.5% of the movies generated a p-value less than 0.005. So under the 0.005 significance level, 2.5% of the movies exhibit such a “social watching” effect."
   ]
  },
  {
   "cell_type": "markdown",
   "metadata": {},
   "source": [
    "9) Is the ratings distribution of ‘Home Alone (1990)’ different than that of ‘Finding Nemo (2003)’?"
   ]
  },
  {
   "cell_type": "markdown",
   "metadata": {},
   "source": [
    "This is still two-sample test scenario, but we want to compare whether the two distributions of samples came from are the same. Instead of Mann Whitney U test, I used the KS (Kolmogorov-Smirnov) test, it is a kind of goodness-of-fit test to compare distributions. I filtered out the movie ratings of Home Alone and Finding Nemo as the two samples and conducted the KS test. The null hypothesis is that the distributions of these two samples are the same. The alternative hypothesis is that they are not the same. The p-value is 6.379397182836346e-10, which reject the null hypothesis that the two distribution are the same, under 0.005 significance level. So we have evidence to say the ratings distribution of ‘Home Alone (1990)’ different than that of ‘Finding Nemo (2003)’."
   ]
  },
  {
   "cell_type": "markdown",
   "metadata": {},
   "source": [
    "10) There are ratings on movies from several franchises ([‘Star Wars’, ‘Harry Potter’, ‘The Matrix’, ‘Indiana Jones’, ‘Jurassic Park’, ‘Pirates of the Caribbean’, ‘Toy Story’, ‘Batman’]) in this dataset. How many of these are of inconsistent quality, as experienced by viewers? [Hint: You can use the keywords in quotation marks featured in this question to identify the movies that are part of each franchise]"
   ]
  },
  {
   "cell_type": "markdown",
   "metadata": {},
   "source": [
    "I first filtered out all the franchise movies, and there are more than two movies for each franchise, so we cannot use Mann-Whitney again. And we cannot use normal one-way anova, since the data is movie rating. I found that Kruskal-Wallis H-test is a non-parametric version of ANOVA, which is to test the median for 2 or more samples, which may have different sample sizes. I also find the Friedman test is a appriopriate in this circumstance but it does not support different sample size for each sample, so I finally choose Kruskal-Wallis H test. \n",
    "\n",
    "The null hypothesis of the test is that all movies in the franchise have consistent quality (the median of the ratings have no difference). Using the KW H-test on the 8 franchise movies, I found that only the Harry Potter Series generated a p-value higher than 0.005, that is saying, under 0.005 significance level, We fail to reject that Harry Potter Series has consistent quality (p = 0.34331950837289205), while for the other 7 franchise movies, we rejeceted that their quality is consistent. Inconclusion, 7 out of 8 franchise movies have inconsistent quanlity."
   ]
  },
  {
   "cell_type": "markdown",
   "metadata": {},
   "source": [
    "#### Extra Credit: \n",
    "Tell us something interesting and true (supported by a significance test of some kind) about the movies in this dataset that is not already covered by the questions above [for 5% of the grade score]."
   ]
  },
  {
   "cell_type": "markdown",
   "metadata": {},
   "source": [
    "I tried to find out whether newer released moview are more popular than older movies (have more ratings). I would use the median split as in question 2. For this two sample circumstance, I would use the two-sample t-test, since I only care about count of rating, so I only need to test whether there is a difference in the mean of counts. And I assume the rating counts are independent, so I would use the independent t-test.\n",
    "\n",
    "By spliting the movie ratings into those before 1999 and after 1999, I used the independent t-test and rejected the null that the count of newer movie ratings are less or equal to the count of older movie ratings under 0.005 significance level (p = 4.2443663905911793e-05). That it is to say, we have evidence to believe that newer movies are more popular, or younger generation movie viewers are more likely to give ratings of movie.\n",
    "\n",
    "Concerns on this approach is that the rating of same person might be correlated, so it is more reasonable to use correlated t-test. But that might lose too much data, dropping all na row-wisely, I only got two rows left, and it is meaningless to do a test on two data point."
   ]
  },
  {
   "cell_type": "markdown",
   "metadata": {},
   "source": [
    "### Appendix"
   ]
  },
  {
   "cell_type": "code",
   "execution_count": 20,
   "metadata": {},
   "outputs": [
    {
     "name": "stdout",
     "output_type": "stream",
     "text": [
      "1242808144.5 0.0\n"
     ]
    }
   ],
   "source": [
    "# q1\n",
    "import pandas as pd\n",
    "import numpy as np\n",
    "from scipy import stats\n",
    "df = pd.read_csv('movieReplicationSet.csv')\n",
    "df1 = df.iloc[:,:400]\n",
    "pop = df1.loc[:,df1.isna().sum() < df1.isna().sum().median()]\n",
    "not_pop = df1.loc[:,df1.isna().sum() >= df1.isna().sum().median()]\n",
    "size = pop.shape[1]\n",
    "array_pop = np.empty(0)\n",
    "for i in range(size):\n",
    "    a = pop.iloc[:,i].dropna()\n",
    "    array_pop = np.concatenate((array_pop, a), axis=None)\n",
    "array_not_pop = np.empty(0)\n",
    "for i in range(400-size):\n",
    "    b = not_pop.iloc[:,i].dropna()\n",
    "    array_not_pop = np.concatenate((array_not_pop, b), axis=None)\n",
    "# simple summary\n",
    "# use mannwhitney u test\n",
    "u,p = stats.mannwhitneyu(array_pop, array_not_pop, alternative=\"greater\")\n",
    "print(u, p)"
   ]
  },
  {
   "cell_type": "code",
   "execution_count": 21,
   "metadata": {},
   "outputs": [
    {
     "data": {
      "text/plain": [
       "1.2849216001533932e-06"
      ]
     },
     "execution_count": 21,
     "metadata": {},
     "output_type": "execute_result"
    }
   ],
   "source": [
    "# q2\n",
    "# select movie names\n",
    "df1.columns[0]\n",
    "list = []\n",
    "# get the release year from the name\n",
    "for i in range(400):\n",
    "    list.append(int(df1.columns[i][-5:-1]))\n",
    "median_year = np.median(list)\n",
    "# split by release year\n",
    "newer_movies = df1.iloc[:,list >= median_year]\n",
    "older_movies = df1.iloc[:,list < median_year]\n",
    "size = newer_movies.shape[1]\n",
    "array_newer = np.empty(0)\n",
    "for i in range(size):\n",
    "    a = newer_movies.iloc[:,i].dropna()\n",
    "    array_newer = np.concatenate((array_newer, a), axis=None)\n",
    "array_older = np.empty(0)\n",
    "for i in range(400-size):\n",
    "    b = older_movies.iloc[:,i].dropna()\n",
    "    array_older = np.concatenate((array_older, b), axis=None)\n",
    "u,p = stats.mannwhitneyu(array_older, array_newer, alternative=\"two-sided\")\n",
    "p"
   ]
  },
  {
   "cell_type": "code",
   "execution_count": 22,
   "metadata": {},
   "outputs": [
    {
     "data": {
      "text/plain": [
       "0.050536625925559006"
      ]
     },
     "execution_count": 22,
     "metadata": {},
     "output_type": "execute_result"
    }
   ],
   "source": [
    "# q3\n",
    "female = df.loc[df.iloc[:,-3] == 1, :].loc[:, \"Shrek (2001)\"].dropna()\n",
    "male = df.loc[df.iloc[:,-3] == 2, :].loc[:, \"Shrek (2001)\"].dropna()\n",
    "u,p = stats.mannwhitneyu(female, male, alternative = \"two-sided\")\n",
    "p"
   ]
  },
  {
   "cell_type": "code",
   "execution_count": 40,
   "metadata": {},
   "outputs": [
    {
     "data": {
      "text/plain": [
       "'12.5%'"
      ]
     },
     "execution_count": 40,
     "metadata": {},
     "output_type": "execute_result"
    }
   ],
   "source": [
    "# q4\n",
    "sum = 0\n",
    "for i in range(400):\n",
    "    female = df.loc[df.iloc[:,-3] == 1, :].iloc[:,i].dropna()\n",
    "    male = df.loc[df.iloc[:,-3] == 2, :].iloc[:,i].dropna()\n",
    "    u,p = stats.mannwhitneyu(female, male, alternative = \"two-sided\")\n",
    "    if p < 0.005:\n",
    "        sum += 1\n",
    "str(sum/400*100) + '%'"
   ]
  },
  {
   "cell_type": "code",
   "execution_count": 41,
   "metadata": {},
   "outputs": [
    {
     "data": {
      "text/plain": [
       "0.978419092554931"
      ]
     },
     "execution_count": 41,
     "metadata": {},
     "output_type": "execute_result"
    }
   ],
   "source": [
    "# q5\n",
    "only_child = df.loc[df.iloc[:,-2] == 1, :].loc[ : , \"The Lion King (1994)\"].dropna()\n",
    "not_only_child = df.loc[df.iloc[:,-2] == 0, :].loc[ : , \"The Lion King (1994)\"].dropna()\n",
    "u,p = stats.mannwhitneyu(only_child, not_only_child, alternative = \"greater\")\n",
    "p"
   ]
  },
  {
   "cell_type": "code",
   "execution_count": 25,
   "metadata": {},
   "outputs": [
    {
     "data": {
      "text/plain": [
       "0.0175"
      ]
     },
     "execution_count": 25,
     "metadata": {},
     "output_type": "execute_result"
    }
   ],
   "source": [
    "# q6\n",
    "sum = 0\n",
    "for i in range(400):\n",
    "    only_child  = df.loc[df.iloc[:,-2] == 1, :].iloc[:, i].dropna()\n",
    "    not_only_child = df.loc[df.iloc[:,-2] == 0, :].iloc[:, i].dropna()\n",
    "    u,p = stats.mannwhitneyu(only_child, not_only_child, alternative = \"two-sided\")\n",
    "    if p < 0.005:\n",
    "        sum += 1\n",
    "sum/400"
   ]
  },
  {
   "cell_type": "code",
   "execution_count": 26,
   "metadata": {},
   "outputs": [
    {
     "data": {
      "text/plain": [
       "0.9436657996253056"
      ]
     },
     "execution_count": 26,
     "metadata": {},
     "output_type": "execute_result"
    }
   ],
   "source": [
    "# q7\n",
    "alone = df.loc[df.iloc[:,-1] == 1, :].loc[ : , \"The Wolf of Wall Street (2013)\"].dropna()\n",
    "socially = df.loc[df.iloc[:,-1] == 0, :].loc[ : , \"The Wolf of Wall Street (2013)\"].dropna()\n",
    "u,p = stats.mannwhitneyu(socially, alone, alternative = \"greater\")\n",
    "p"
   ]
  },
  {
   "cell_type": "code",
   "execution_count": 27,
   "metadata": {},
   "outputs": [
    {
     "data": {
      "text/plain": [
       "0.025"
      ]
     },
     "execution_count": 27,
     "metadata": {},
     "output_type": "execute_result"
    }
   ],
   "source": [
    "# q8\n",
    "sum = 0\n",
    "for i in range(400):\n",
    "    alone  = df.loc[df.iloc[:,-1] == 1, :].iloc[:,i].dropna()\n",
    "    socially = df.loc[df.iloc[:,-1] == 0, :].iloc[:,i].dropna()\n",
    "    u,p = stats.mannwhitneyu(alone, socially, alternative = \"two-sided\")\n",
    "    if p < 0.005:\n",
    "        sum += 1\n",
    "sum/400"
   ]
  },
  {
   "cell_type": "code",
   "execution_count": 28,
   "metadata": {},
   "outputs": [
    {
     "data": {
      "text/plain": [
       "6.379397182836346e-10"
      ]
     },
     "execution_count": 28,
     "metadata": {},
     "output_type": "execute_result"
    }
   ],
   "source": [
    "# q9\n",
    "home_alone = df.loc[:,\"Home Alone (1990)\"].dropna()\n",
    "finding_nemo = df.loc[:,\"Finding Nemo (2003)\"].dropna()\n",
    "d, p = stats.ks_2samp(home_alone, finding_nemo)\n",
    "p"
   ]
  },
  {
   "cell_type": "code",
   "execution_count": 29,
   "metadata": {},
   "outputs": [],
   "source": [
    "# q10\n",
    "def func(s,x):\n",
    "    return s in x\n",
    "franchises = [\"Star Wars\", \"Harry Potter\", \"The Matrix\", \"Indiana Jones\", \"Jurassic Park\", \"Pirates of the Caribbean\", \"Toy Story\", \"Batman\"]\n",
    "list = [[False]*len(df1.columns) for i in range(len(franchises))]\n",
    "for j in range(len(franchises)):\n",
    "    for i in range(len(df1.columns)):\n",
    "        list[j][i] = (func(franchises[j], df1.columns[i]))"
   ]
  },
  {
   "cell_type": "code",
   "execution_count": 30,
   "metadata": {},
   "outputs": [
    {
     "data": {
      "text/plain": [
       "8.01647736660335e-48"
      ]
     },
     "execution_count": 30,
     "metadata": {},
     "output_type": "execute_result"
    }
   ],
   "source": [
    "# Star Wars\n",
    "star_wars = df1.loc[:,list[0]]\n",
    "h,p = stats.kruskal(star_wars.iloc[:,0].dropna(),\n",
    "star_wars.iloc[:, 1].dropna(),\n",
    "star_wars.iloc[:, 2].dropna(),\n",
    "star_wars.iloc[:, 3].dropna(),\n",
    "star_wars.iloc[:, 4].dropna(),\n",
    "star_wars.iloc[:, 5].dropna())\n",
    "p"
   ]
  },
  {
   "cell_type": "code",
   "execution_count": 31,
   "metadata": {},
   "outputs": [
    {
     "data": {
      "text/plain": [
       "0.34331950837289205"
      ]
     },
     "execution_count": 31,
     "metadata": {},
     "output_type": "execute_result"
    }
   ],
   "source": [
    "# Harry Potter\n",
    "harry_potter = df1.loc[:,list[1]]\n",
    "h,p = stats.kruskal(harry_potter.iloc[:,0].dropna(),\n",
    "harry_potter.iloc[:, 1].dropna(),\n",
    "harry_potter.iloc[:, 2].dropna(),\n",
    "harry_potter.iloc[:, 3].dropna())\n",
    "p"
   ]
  },
  {
   "cell_type": "code",
   "execution_count": 32,
   "metadata": {},
   "outputs": [
    {
     "data": {
      "text/plain": [
       "3.1236517880781424e-11"
      ]
     },
     "execution_count": 32,
     "metadata": {},
     "output_type": "execute_result"
    }
   ],
   "source": [
    "# The Matrix\n",
    "the_matrix = df1.loc[:,list[2]]\n",
    "h,p = stats.kruskal(the_matrix.iloc[:,0].dropna(),\n",
    "the_matrix.iloc[:,1].dropna(),\n",
    "the_matrix.iloc[:,2].dropna())\n",
    "p"
   ]
  },
  {
   "cell_type": "code",
   "execution_count": 33,
   "metadata": {},
   "outputs": [
    {
     "data": {
      "text/plain": [
       "6.27277563979608e-10"
      ]
     },
     "execution_count": 33,
     "metadata": {},
     "output_type": "execute_result"
    }
   ],
   "source": [
    "# Indiana Jones\n",
    "indiana = df1.loc[:,list[3]]\n",
    "h,p = stats.kruskal(indiana.iloc[:,0].dropna(),\n",
    "indiana.iloc[:, 1].dropna(),\n",
    "indiana.iloc[:, 2].dropna(),\n",
    "indiana.iloc[:, 3].dropna())\n",
    "p"
   ]
  },
  {
   "cell_type": "code",
   "execution_count": 34,
   "metadata": {},
   "outputs": [
    {
     "data": {
      "text/plain": [
       "7.636930084362221e-11"
      ]
     },
     "execution_count": 34,
     "metadata": {},
     "output_type": "execute_result"
    }
   ],
   "source": [
    "# Jurassic Park\n",
    "jurassic = df1.loc[:,list[4]]\n",
    "h,p = stats.kruskal(jurassic.iloc[:,0].dropna(),\n",
    "jurassic.iloc[:, 1].dropna(),\n",
    "jurassic.iloc[:, 2].dropna())\n",
    "p"
   ]
  },
  {
   "cell_type": "code",
   "execution_count": 35,
   "metadata": {},
   "outputs": [
    {
     "data": {
      "text/plain": [
       "3.2901287079094474e-05"
      ]
     },
     "execution_count": 35,
     "metadata": {},
     "output_type": "execute_result"
    }
   ],
   "source": [
    "\n",
    "# Pirates of the Caribbean\n",
    "pirates = df1.loc[:,list[5]]\n",
    "h,p = stats.kruskal(pirates.iloc[:,0].dropna(),\n",
    "pirates.iloc[:, 1].dropna(),\n",
    "pirates.iloc[:, 2].dropna())\n",
    "p"
   ]
  },
  {
   "cell_type": "code",
   "execution_count": 36,
   "metadata": {},
   "outputs": [
    {
     "data": {
      "text/plain": [
       "5.065805156537524e-06"
      ]
     },
     "execution_count": 36,
     "metadata": {},
     "output_type": "execute_result"
    }
   ],
   "source": [
    "# Toy Story\n",
    "toy = df1.loc[:,list[6]]\n",
    "h,p = stats.kruskal(toy.iloc[:, 0].dropna(),\n",
    "toy.iloc[:, 1].dropna(),\n",
    "toy.iloc[:, 2].dropna())\n",
    "p"
   ]
  },
  {
   "cell_type": "code",
   "execution_count": 37,
   "metadata": {},
   "outputs": [
    {
     "data": {
      "text/plain": [
       "4.1380499020034183e-19"
      ]
     },
     "execution_count": 37,
     "metadata": {},
     "output_type": "execute_result"
    }
   ],
   "source": [
    "# Batman\n",
    "batman = df1.loc[:,list[7]].dropna()\n",
    "h,p = stats.kruskal(batman.iloc[:, 0].dropna(),\n",
    "batman.iloc[:, 1].dropna(),\n",
    "batman.iloc[:, 2].dropna())\n",
    "p"
   ]
  },
  {
   "cell_type": "code",
   "execution_count": 38,
   "metadata": {},
   "outputs": [
    {
     "data": {
      "text/plain": [
       "4.2443663905911793e-05"
      ]
     },
     "execution_count": 38,
     "metadata": {},
     "output_type": "execute_result"
    }
   ],
   "source": [
    "# extra points\n",
    "rows = newer_movies.shape[0]\n",
    "newer_movie_rating_counts = []\n",
    "older_movie_rating_counts = []\n",
    "for i in range(newer_movies.shape[1]):\n",
    "    newer_movie_rating_counts.append(rows - newer_movies.iloc[:,i].isna().sum())\n",
    "for i in range(older_movies.shape[1]):\n",
    "    older_movie_rating_counts.append(rows - older_movies.iloc[:,i].isna().sum())\n",
    "t1,p1 = stats.ttest_ind(newer_movie_rating_counts, older_movie_rating_counts, alternative=\"greater\")\n",
    "p1"
   ]
  },
  {
   "cell_type": "code",
   "execution_count": 39,
   "metadata": {},
   "outputs": [
    {
     "data": {
      "text/html": [
       "<div>\n",
       "<style scoped>\n",
       "    .dataframe tbody tr th:only-of-type {\n",
       "        vertical-align: middle;\n",
       "    }\n",
       "\n",
       "    .dataframe tbody tr th {\n",
       "        vertical-align: top;\n",
       "    }\n",
       "\n",
       "    .dataframe thead th {\n",
       "        text-align: right;\n",
       "    }\n",
       "</style>\n",
       "<table border=\"1\" class=\"dataframe\">\n",
       "  <thead>\n",
       "    <tr style=\"text-align: right;\">\n",
       "      <th></th>\n",
       "      <th>The Life of David Gale (2003)</th>\n",
       "      <th>Wing Commander (1999)</th>\n",
       "      <th>Django Unchained (2012)</th>\n",
       "      <th>Alien (1979)</th>\n",
       "      <th>Indiana Jones and the Last Crusade (1989)</th>\n",
       "      <th>Snatch (2000)</th>\n",
       "      <th>Rambo: First Blood Part II (1985)</th>\n",
       "      <th>Fargo (1996)</th>\n",
       "      <th>Let the Right One In (2008)</th>\n",
       "      <th>Black Swan (2010)</th>\n",
       "      <th>...</th>\n",
       "      <th>X-Men 2 (2003)</th>\n",
       "      <th>The Usual Suspects (1995)</th>\n",
       "      <th>The Mask (1994)</th>\n",
       "      <th>Jaws (1975)</th>\n",
       "      <th>Harry Potter and the Chamber of Secrets (2002)</th>\n",
       "      <th>Patton (1970)</th>\n",
       "      <th>Anaconda (1997)</th>\n",
       "      <th>Twister (1996)</th>\n",
       "      <th>MacArthur (1977)</th>\n",
       "      <th>Look Who's Talking (1989)</th>\n",
       "    </tr>\n",
       "  </thead>\n",
       "  <tbody>\n",
       "    <tr>\n",
       "      <th>430</th>\n",
       "      <td>0.0</td>\n",
       "      <td>0.0</td>\n",
       "      <td>4.0</td>\n",
       "      <td>0.5</td>\n",
       "      <td>0.0</td>\n",
       "      <td>0.0</td>\n",
       "      <td>0.5</td>\n",
       "      <td>0.5</td>\n",
       "      <td>0.0</td>\n",
       "      <td>3.0</td>\n",
       "      <td>...</td>\n",
       "      <td>0.0</td>\n",
       "      <td>0.0</td>\n",
       "      <td>0.0</td>\n",
       "      <td>0.5</td>\n",
       "      <td>0.0</td>\n",
       "      <td>0.0</td>\n",
       "      <td>0.5</td>\n",
       "      <td>0.0</td>\n",
       "      <td>0.0</td>\n",
       "      <td>0.0</td>\n",
       "    </tr>\n",
       "    <tr>\n",
       "      <th>999</th>\n",
       "      <td>3.0</td>\n",
       "      <td>3.0</td>\n",
       "      <td>2.5</td>\n",
       "      <td>3.0</td>\n",
       "      <td>2.5</td>\n",
       "      <td>3.0</td>\n",
       "      <td>2.5</td>\n",
       "      <td>2.5</td>\n",
       "      <td>2.5</td>\n",
       "      <td>2.5</td>\n",
       "      <td>...</td>\n",
       "      <td>3.0</td>\n",
       "      <td>3.5</td>\n",
       "      <td>3.5</td>\n",
       "      <td>3.5</td>\n",
       "      <td>3.5</td>\n",
       "      <td>3.0</td>\n",
       "      <td>3.5</td>\n",
       "      <td>3.5</td>\n",
       "      <td>3.5</td>\n",
       "      <td>3.5</td>\n",
       "    </tr>\n",
       "  </tbody>\n",
       "</table>\n",
       "<p>2 rows × 400 columns</p>\n",
       "</div>"
      ],
      "text/plain": [
       "     The Life of David Gale (2003)  Wing Commander (1999)  \\\n",
       "430                            0.0                    0.0   \n",
       "999                            3.0                    3.0   \n",
       "\n",
       "     Django Unchained (2012)  Alien (1979)  \\\n",
       "430                      4.0           0.5   \n",
       "999                      2.5           3.0   \n",
       "\n",
       "     Indiana Jones and the Last Crusade (1989)  Snatch (2000)  \\\n",
       "430                                        0.0            0.0   \n",
       "999                                        2.5            3.0   \n",
       "\n",
       "     Rambo: First Blood Part II (1985)  Fargo (1996)  \\\n",
       "430                                0.5           0.5   \n",
       "999                                2.5           2.5   \n",
       "\n",
       "     Let the Right One In (2008)  Black Swan (2010)  ...  X-Men 2 (2003)  \\\n",
       "430                          0.0                3.0  ...             0.0   \n",
       "999                          2.5                2.5  ...             3.0   \n",
       "\n",
       "     The Usual Suspects (1995)  The Mask (1994)  Jaws (1975)  \\\n",
       "430                        0.0              0.0          0.5   \n",
       "999                        3.5              3.5          3.5   \n",
       "\n",
       "     Harry Potter and the Chamber of Secrets (2002)  Patton (1970)  \\\n",
       "430                                             0.0            0.0   \n",
       "999                                             3.5            3.0   \n",
       "\n",
       "     Anaconda (1997)  Twister (1996)  MacArthur (1977)  \\\n",
       "430              0.5             0.0               0.0   \n",
       "999              3.5             3.5               3.5   \n",
       "\n",
       "     Look Who's Talking (1989)  \n",
       "430                        0.0  \n",
       "999                        3.5  \n",
       "\n",
       "[2 rows x 400 columns]"
      ]
     },
     "execution_count": 39,
     "metadata": {},
     "output_type": "execute_result"
    }
   ],
   "source": [
    "row_wise = df1.dropna()\n",
    "row_wise"
   ]
  }
 ],
 "metadata": {
  "kernelspec": {
   "display_name": "Python 3.9.12 ('base')",
   "language": "python",
   "name": "python3"
  },
  "language_info": {
   "codemirror_mode": {
    "name": "ipython",
    "version": 3
   },
   "file_extension": ".py",
   "mimetype": "text/x-python",
   "name": "python",
   "nbconvert_exporter": "python",
   "pygments_lexer": "ipython3",
   "version": "3.9.12"
  },
  "orig_nbformat": 4,
  "vscode": {
   "interpreter": {
    "hash": "a0929711d380e35192f4cb7fc35982659e488768c1797b656fc22286d7128f20"
   }
  }
 },
 "nbformat": 4,
 "nbformat_minor": 2
}
